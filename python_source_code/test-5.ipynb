{
 "cells": [
  {
   "cell_type": "code",
   "execution_count": 32,
   "metadata": {},
   "outputs": [
    {
     "data": {
      "text/html": [
       "<style>\n",
       "    body {\n",
       "        --vscode-font-family: \"等距更纱黑体 SC\"\n",
       "    }\n",
       "</style>\n"
      ],
      "text/plain": [
       "<IPython.core.display.HTML object>"
      ]
     },
     "metadata": {},
     "output_type": "display_data"
    }
   ],
   "source": [
    "%%HTML\n",
    "<style>\n",
    "    body {\n",
    "        --vscode-font-family: \"等距更纱黑体 SC\"\n",
    "    }\n",
    "</style>"
   ]
  },
  {
   "cell_type": "code",
   "execution_count": null,
   "metadata": {},
   "outputs": [],
   "source": [
    "import pandas as pd"
   ]
  },
  {
   "cell_type": "code",
   "execution_count": null,
   "metadata": {},
   "outputs": [],
   "source": [
    "s1 = pd.Series([10, 20, 30], index = [\"a\", \"b\", \"c\"]) # 从列表创建\n",
    "s2 = pd.Series({\"a\" : 10, \"b\" : 20, \"c\" : 30}) # 从字典创建\n",
    "\n",
    "print(\"s1 is \", s1[\"a\"])\n",
    "print(\"s2 is \", s2[\"b\"])"
   ]
  },
  {
   "cell_type": "code",
   "execution_count": null,
   "metadata": {},
   "outputs": [
    {
     "name": "stdout",
     "output_type": "stream",
     "text": [
      "   ID  Name  Age  City\n",
      "0   1  煜宇   23  广州\n",
      "1   2  一吸   26  深圳\n",
      "2   3  汤姆   29  上海\n",
      "3   4  阿诺   32  北京\n"
     ]
    },
    {
     "data": {
      "text/html": [
       "<div>\n",
       "<style scoped>\n",
       "    .dataframe tbody tr th:only-of-type {\n",
       "        vertical-align: middle;\n",
       "    }\n",
       "\n",
       "    .dataframe tbody tr th {\n",
       "        vertical-align: top;\n",
       "    }\n",
       "\n",
       "    .dataframe thead th {\n",
       "        text-align: right;\n",
       "    }\n",
       "</style>\n",
       "<table border=\"1\" class=\"dataframe\">\n",
       "  <thead>\n",
       "    <tr style=\"text-align: right;\">\n",
       "      <th></th>\n",
       "      <th>ID</th>\n",
       "      <th>Name</th>\n",
       "      <th>Age</th>\n",
       "      <th>City</th>\n",
       "    </tr>\n",
       "  </thead>\n",
       "  <tbody>\n",
       "    <tr>\n",
       "      <th>0</th>\n",
       "      <td>1</td>\n",
       "      <td>煜宇</td>\n",
       "      <td>23</td>\n",
       "      <td>广州</td>\n",
       "    </tr>\n",
       "    <tr>\n",
       "      <th>1</th>\n",
       "      <td>2</td>\n",
       "      <td>一吸</td>\n",
       "      <td>26</td>\n",
       "      <td>深圳</td>\n",
       "    </tr>\n",
       "    <tr>\n",
       "      <th>2</th>\n",
       "      <td>3</td>\n",
       "      <td>汤姆</td>\n",
       "      <td>29</td>\n",
       "      <td>上海</td>\n",
       "    </tr>\n",
       "    <tr>\n",
       "      <th>3</th>\n",
       "      <td>4</td>\n",
       "      <td>阿诺</td>\n",
       "      <td>32</td>\n",
       "      <td>北京</td>\n",
       "    </tr>\n",
       "  </tbody>\n",
       "</table>\n",
       "</div>"
      ],
      "text/plain": [
       "   ID  Name  Age  City\n",
       "0   1  煜宇   23  广州\n",
       "1   2  一吸   26  深圳\n",
       "2   3  汤姆   29  上海\n",
       "3   4  阿诺   32  北京"
      ]
     },
     "metadata": {},
     "output_type": "display_data"
    },
    {
     "data": {
      "text/html": [
       "<style type=\"text/css\">\n",
       "#T_c29de th {\n",
       "  text-align: center;\n",
       "}\n",
       "#T_c29de td {\n",
       "  text-align: center;\n",
       "}\n",
       "#T_c29de th {\n",
       "  font-weight: normal;\n",
       "}\n",
       "#T_c29de td {\n",
       "  background-color: rgba(40,44,52,1);\n",
       "}\n",
       "#T_c29de th {\n",
       "  background-color: rgba(40,44,52,1);\n",
       "}\n",
       "</style>\n",
       "<table id=\"T_c29de\">\n",
       "  <thead>\n",
       "    <tr>\n",
       "      <th class=\"blank level0\" >&nbsp;</th>\n",
       "      <th id=\"T_c29de_level0_col0\" class=\"col_heading level0 col0\" >ID</th>\n",
       "      <th id=\"T_c29de_level0_col1\" class=\"col_heading level0 col1\" >Name</th>\n",
       "      <th id=\"T_c29de_level0_col2\" class=\"col_heading level0 col2\" >Age</th>\n",
       "      <th id=\"T_c29de_level0_col3\" class=\"col_heading level0 col3\" >City</th>\n",
       "    </tr>\n",
       "  </thead>\n",
       "  <tbody>\n",
       "    <tr>\n",
       "      <th id=\"T_c29de_level0_row0\" class=\"row_heading level0 row0\" >0</th>\n",
       "      <td id=\"T_c29de_row0_col0\" class=\"data row0 col0\" >1</td>\n",
       "      <td id=\"T_c29de_row0_col1\" class=\"data row0 col1\" >煜宇</td>\n",
       "      <td id=\"T_c29de_row0_col2\" class=\"data row0 col2\" >23</td>\n",
       "      <td id=\"T_c29de_row0_col3\" class=\"data row0 col3\" >广州</td>\n",
       "    </tr>\n",
       "    <tr>\n",
       "      <th id=\"T_c29de_level0_row1\" class=\"row_heading level0 row1\" >1</th>\n",
       "      <td id=\"T_c29de_row1_col0\" class=\"data row1 col0\" >2</td>\n",
       "      <td id=\"T_c29de_row1_col1\" class=\"data row1 col1\" >一吸</td>\n",
       "      <td id=\"T_c29de_row1_col2\" class=\"data row1 col2\" >26</td>\n",
       "      <td id=\"T_c29de_row1_col3\" class=\"data row1 col3\" >深圳</td>\n",
       "    </tr>\n",
       "    <tr>\n",
       "      <th id=\"T_c29de_level0_row2\" class=\"row_heading level0 row2\" >2</th>\n",
       "      <td id=\"T_c29de_row2_col0\" class=\"data row2 col0\" >3</td>\n",
       "      <td id=\"T_c29de_row2_col1\" class=\"data row2 col1\" >汤姆</td>\n",
       "      <td id=\"T_c29de_row2_col2\" class=\"data row2 col2\" >29</td>\n",
       "      <td id=\"T_c29de_row2_col3\" class=\"data row2 col3\" >上海</td>\n",
       "    </tr>\n",
       "    <tr>\n",
       "      <th id=\"T_c29de_level0_row3\" class=\"row_heading level0 row3\" >3</th>\n",
       "      <td id=\"T_c29de_row3_col0\" class=\"data row3 col0\" >4</td>\n",
       "      <td id=\"T_c29de_row3_col1\" class=\"data row3 col1\" >阿诺</td>\n",
       "      <td id=\"T_c29de_row3_col2\" class=\"data row3 col2\" >32</td>\n",
       "      <td id=\"T_c29de_row3_col3\" class=\"data row3 col3\" >北京</td>\n",
       "    </tr>\n",
       "  </tbody>\n",
       "</table>\n"
      ],
      "text/plain": [
       "<pandas.io.formats.style.Styler at 0x2d439a4d450>"
      ]
     },
     "metadata": {},
     "output_type": "display_data"
    },
    {
     "name": "stdout",
     "output_type": "stream",
     "text": [
      "\n",
      "\n",
      "   ID  Name  Age      City\n",
      "0   1  alex   24   tianjin\n",
      "1   2  bobe   26    yunnan\n",
      "2   3  timi   29  chongqin\n",
      "3   4  halo   32   jiangxi\n"
     ]
    }
   ],
   "source": [
    "# 从列表/数组创建\n",
    "data1 = [\n",
    "    [1, \"煜宇\", 23, \"广州\"],\n",
    "    [2, \"一吸\", 26, \"深圳\"],\n",
    "    [3, \"汤姆\", 29, \"上海\"],\n",
    "    [4, \"阿诺\", 32, \"北京\"]\n",
    "]\n",
    "\n",
    "df1 = pd.DataFrame(data1, columns = [\"ID\", \"Name\", \"Age\", \"City\"])\n",
    "\n",
    "# 用来对齐中英文字符\n",
    "# pd.set_option('display.unicode.ambiguous_as_wide', True) # 好像是专门处理特殊符号的……\n",
    "pd.set_option('display.unicode.east_asian_width', True) # 东亚字符的宽度被视为1个字符\n",
    "\n",
    "# 这个是居中用的……不是让中文字符对齐用的\n",
    "#s_df1 = df1.style.set_properties(**{'font-weight': 'normal',}) # 设置属性和下面的设置表格样式之间进行对比·设置属性这一条目有些好像没有作用……\n",
    "\n",
    "df1_1 = df1.style.set_table_styles(\n",
    "    [\n",
    "        {'selector': 'th', 'props': [('text-align', 'center')]}, #实际上这一条不会起到作用·因为表头默认居中\n",
    "        {'selector': 'td', 'props': [('text-align', 'center')]},\n",
    "        {'selector': 'th', 'props': [('font-weight', 'normal')]},\n",
    "        {'selector': 'td', 'props': [('background-color', 'rgba(40,44,52,1)')]},\n",
    "        {'selector': 'th', 'props': [('background-color', 'rgba(40,44,52,1)')]}\n",
    "    ]\n",
    ")\n",
    "\n",
    "print(df1) # 采用print输出表格可以实现中文字符对齐，但是没办法居中，因为居中必须要用style函数修改·但是用了style函数后仅能用display来输出\n",
    "\n",
    "display(df1) # 采用display输出表格默认就实现了中文字符对齐效果·但是因为我在这里输入的是df1而不是s_df1·所以目前还有文字没居中以及表头粗体的问题\n",
    "display(df1_1) # 在对齐后再一次用一个新函数方法来实现取消表头粗体效果·补充说明之给定的表格采用了.set_table_styles的方法后不用再赋值给新的变量·其会更新自身变量内容\n",
    "\n",
    "print(\"\\n\")\n",
    "\n",
    "data2 = {\n",
    "    \"ID\" : [1, 2, 3, 4],\n",
    "    \"Name\" : [\"alex\", \"bobe\", \"timi\", \"halo\"],\n",
    "    \"Age\" : [24, 26, 29, 32],\n",
    "    \"City\" : [\"tianjin\", \"yunnan\", \"chongqin\", \"jiangxi\"]\n",
    "}\n",
    "\n",
    "df2 = pd.DataFrame(data2)\n",
    "print(df2)"
   ]
  },
  {
   "cell_type": "markdown",
   "metadata": {},
   "source": [
    "读取表格文件"
   ]
  },
  {
   "cell_type": "code",
   "execution_count": 42,
   "metadata": {},
   "outputs": [],
   "source": [
    "mypath = r'C:\\Users\\28221\\Desktop\\test.xlsx'\n",
    "mysheet1 = pd.read_excel(mypath)\n",
    "mysheet2 = mysheet1.style.set_table_styles(\n",
    "     [\n",
    "        {'selector': 'td', 'props': [('text-align', 'center')]},\n",
    "        {'selector': 'th', 'props': [('font-weight', 'normal')]},\n",
    "        {'selector': 'td', 'props': [('background-color', 'rgba(40,44,52,1)')]},\n",
    "        {'selector': 'th', 'props': [('background-color', 'rgba(40,44,52,1)')]}\n",
    "    ]\n",
    ")"
   ]
  },
  {
   "cell_type": "code",
   "execution_count": 43,
   "metadata": {},
   "outputs": [
    {
     "data": {
      "text/html": [
       "<style type=\"text/css\">\n",
       "#T_53a24 td {\n",
       "  text-align: center;\n",
       "}\n",
       "#T_53a24 th {\n",
       "  font-weight: normal;\n",
       "}\n",
       "#T_53a24 td {\n",
       "  background-color: rgba(40,44,52,1);\n",
       "}\n",
       "#T_53a24 th {\n",
       "  background-color: rgba(40,44,52,1);\n",
       "}\n",
       "</style>\n",
       "<table id=\"T_53a24\">\n",
       "  <thead>\n",
       "    <tr>\n",
       "      <th class=\"blank level0\" >&nbsp;</th>\n",
       "      <th id=\"T_53a24_level0_col0\" class=\"col_heading level0 col0\" >序号</th>\n",
       "      <th id=\"T_53a24_level0_col1\" class=\"col_heading level0 col1\" >名字</th>\n",
       "      <th id=\"T_53a24_level0_col2\" class=\"col_heading level0 col2\" >年龄</th>\n",
       "    </tr>\n",
       "  </thead>\n",
       "  <tbody>\n",
       "    <tr>\n",
       "      <th id=\"T_53a24_level0_row0\" class=\"row_heading level0 row0\" >0</th>\n",
       "      <td id=\"T_53a24_row0_col0\" class=\"data row0 col0\" >1</td>\n",
       "      <td id=\"T_53a24_row0_col1\" class=\"data row0 col1\" >yuyu</td>\n",
       "      <td id=\"T_53a24_row0_col2\" class=\"data row0 col2\" >23</td>\n",
       "    </tr>\n",
       "    <tr>\n",
       "      <th id=\"T_53a24_level0_row1\" class=\"row_heading level0 row1\" >1</th>\n",
       "      <td id=\"T_53a24_row1_col0\" class=\"data row1 col0\" >2</td>\n",
       "      <td id=\"T_53a24_row1_col1\" class=\"data row1 col1\" >yixi</td>\n",
       "      <td id=\"T_53a24_row1_col2\" class=\"data row1 col2\" >26</td>\n",
       "    </tr>\n",
       "    <tr>\n",
       "      <th id=\"T_53a24_level0_row2\" class=\"row_heading level0 row2\" >2</th>\n",
       "      <td id=\"T_53a24_row2_col0\" class=\"data row2 col0\" >3</td>\n",
       "      <td id=\"T_53a24_row2_col1\" class=\"data row2 col1\" >alex</td>\n",
       "      <td id=\"T_53a24_row2_col2\" class=\"data row2 col2\" >30</td>\n",
       "    </tr>\n",
       "  </tbody>\n",
       "</table>\n"
      ],
      "text/plain": [
       "<pandas.io.formats.style.Styler at 0x2d4381319c0>"
      ]
     },
     "metadata": {},
     "output_type": "display_data"
    }
   ],
   "source": [
    "display(mysheet2)"
   ]
  }
 ],
 "metadata": {
  "kernelspec": {
   "display_name": "venv",
   "language": "python",
   "name": "python3"
  },
  "language_info": {
   "codemirror_mode": {
    "name": "ipython",
    "version": 3
   },
   "file_extension": ".py",
   "mimetype": "text/x-python",
   "name": "python",
   "nbconvert_exporter": "python",
   "pygments_lexer": "ipython3",
   "version": "3.10.11"
  }
 },
 "nbformat": 4,
 "nbformat_minor": 2
}
