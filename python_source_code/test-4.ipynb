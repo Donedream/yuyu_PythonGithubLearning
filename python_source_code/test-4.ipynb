{
 "cells": [
  {
   "cell_type": "code",
   "execution_count": 1,
   "metadata": {},
   "outputs": [],
   "source": [
    "import numpy as np\n",
    "from numpy import array"
   ]
  },
  {
   "cell_type": "markdown",
   "metadata": {},
   "source": [
    "更改ndarray的维度"
   ]
  },
  {
   "cell_type": "code",
   "execution_count": 2,
   "metadata": {},
   "outputs": [
    {
     "name": "stdout",
     "output_type": "stream",
     "text": [
      "reshape:  [[1 2 3]\n",
      " [4 5 6]]\n",
      "reshape:  [[1 2]\n",
      " [3 4]\n",
      " [5 6]]\n",
      "reshape:  [1 2 3 4 5 6]\n"
     ]
    }
   ],
   "source": [
    "nd_array = array([[1,2,3], [4,5,6]])\n",
    "print(\"reshape: \", nd_array)\n",
    "\n",
    "new_nd_array = nd_array.reshape((3,2))#改变数组形状\n",
    "print(\"reshape: \", new_nd_array)\n",
    "\n",
    "new_nd_array = new_nd_array.flatten()#将多维数组展开为一维\n",
    "print(\"reshape: \", new_nd_array)"
   ]
  },
  {
   "cell_type": "code",
   "execution_count": 3,
   "metadata": {},
   "outputs": [],
   "source": [
    "a = array([1, 2, 3, 4])\n",
    "b = array([10, 20, 30, 40])"
   ]
  },
  {
   "cell_type": "markdown",
   "metadata": {},
   "source": [
    "合并a和b"
   ]
  },
  {
   "cell_type": "code",
   "execution_count": 4,
   "metadata": {},
   "outputs": [
    {
     "name": "stdout",
     "output_type": "stream",
     "text": [
      "[ 1  2  3  4 10 20 30 40]\n",
      "[[ 1  2  3  4]\n",
      " [10 20 30 40]]\n",
      "[ 1  2  3  4 10 20 30 40]\n"
     ]
    }
   ],
   "source": [
    "print(np.hstack([a, b]))#水平拼接数组\n",
    "print(np.vstack([a, b]))#垂直拼接数组\n",
    "print(np.concatenate([a, b], axis = 0))#按指定维度拼接数组"
   ]
  },
  {
   "cell_type": "code",
   "execution_count": null,
   "metadata": {},
   "outputs": [
    {
     "name": "stdout",
     "output_type": "stream",
     "text": [
      "c.shape:  (3, 3, 3, 3)\n",
      "d.shape:  (3, 3, 3, 3)\n",
      "res.shape:  (6, 3, 3, 3)\n"
     ]
    }
   ],
   "source": [
    "#axis的含义解释\n",
    "c = np.arange(81).reshape((3,3,3,3))\n",
    "d = np.array(range(81)).reshape((3,3,3,3))\n",
    "\n",
    "print(\"c.shape: \", c.shape)\n",
    "print(\"d.shape: \", d.shape)\n",
    "res = np.concatenate([c, d], axis = 0)\n",
    "print(\"res.shape: \", res.shape)"
   ]
  },
  {
   "cell_type": "markdown",
   "metadata": {},
   "source": [
    "ndarray的条件选择计算"
   ]
  },
  {
   "cell_type": "code",
   "execution_count": 7,
   "metadata": {},
   "outputs": [],
   "source": [
    "a = array([1, 2, 3, 4])\n",
    "b = array([10, 20, 30, 40])\n",
    "c = array([-1, 1, 1, -1])"
   ]
  },
  {
   "cell_type": "code",
   "execution_count": 8,
   "metadata": {},
   "outputs": [
    {
     "name": "stdout",
     "output_type": "stream",
     "text": [
      "[10  2  3 40]\n",
      "c > 0 [False  True  True False]\n"
     ]
    }
   ],
   "source": [
    "#a和b的条件拼接\n",
    "result = np.where(c > 0, a, b)#满足条件则取x，否则取y，所以0位是false，取b的值\n",
    "print(result)\n",
    "print(\"c > 0\", c > 0)"
   ]
  },
  {
   "cell_type": "code",
   "execution_count": 9,
   "metadata": {},
   "outputs": [
    {
     "name": "stdout",
     "output_type": "stream",
     "text": [
      "[ 10   0 300 400]\n"
     ]
    }
   ],
   "source": [
    "conditions = [a < 2, a > 2]\n",
    "choices = [a * 10, a * 100]\n",
    "#当a < 2时，返回a * 10\n",
    "result = np.select(conditions, choices, default = 0)\n",
    "print(result)"
   ]
  },
  {
   "cell_type": "markdown",
   "metadata": {},
   "source": [
    "基础数学方法"
   ]
  },
  {
   "cell_type": "code",
   "execution_count": 10,
   "metadata": {},
   "outputs": [],
   "source": [
    "arr = np.arange(0, 10)"
   ]
  },
  {
   "cell_type": "code",
   "execution_count": 13,
   "metadata": {},
   "outputs": [
    {
     "name": "stdout",
     "output_type": "stream",
     "text": [
      "0\n",
      "9\n",
      "4.5\n",
      "2.25\n",
      "4.5\n",
      "6.75\n",
      "45\n",
      "4.5\n",
      "2.8722813232690143\n",
      "8.25\n"
     ]
    }
   ],
   "source": [
    "print(arr.min())\n",
    "print(arr.max())\n",
    "print(np.median(arr))\n",
    "\n",
    "#四分点位\n",
    "Q1 = np.percentile(arr, 25)\n",
    "print(Q1)\n",
    "Q1 = np.percentile(arr, 50)\n",
    "print(Q1)\n",
    "Q1 = np.percentile(arr, 75)\n",
    "print(Q1)\n",
    "\n",
    "print(arr.sum())\n",
    "print(arr.mean())\n",
    "\n",
    "print(arr.std())\n",
    "print(arr.var())\n"
   ]
  },
  {
   "cell_type": "code",
   "execution_count": 14,
   "metadata": {},
   "outputs": [],
   "source": [
    "arr1 = np.array([1, 2, 3])\n",
    "arr2 = np.array([4, 5, 6])"
   ]
  },
  {
   "cell_type": "code",
   "execution_count": 15,
   "metadata": {},
   "outputs": [
    {
     "name": "stdout",
     "output_type": "stream",
     "text": [
      "[5 7 9]\n",
      "[-3 -3 -3]\n",
      "[ 4 10 18]\n",
      "[0.25 0.4  0.5 ]\n"
     ]
    }
   ],
   "source": [
    "print(arr1 + arr2)\n",
    "print(arr1 - arr2)\n",
    "print(arr1 * arr2)\n",
    "print(arr1 / arr2)"
   ]
  },
  {
   "cell_type": "code",
   "execution_count": null,
   "metadata": {},
   "outputs": [
    {
     "name": "stdout",
     "output_type": "stream",
     "text": [
      "32\n",
      "32\n"
     ]
    }
   ],
   "source": [
    "print(np.dot(arr1, arr2))\n",
    "print(arr1 @ arr2)\n",
    "#两种方式等价·点乘而不是叉乘"
   ]
  },
  {
   "cell_type": "code",
   "execution_count": 18,
   "metadata": {},
   "outputs": [
    {
     "name": "stdout",
     "output_type": "stream",
     "text": [
      "[1 4 9]\n",
      "[1.         1.41421356 1.73205081]\n"
     ]
    }
   ],
   "source": [
    "print(arr1 ** 2)\n",
    "print(np.sqrt(arr1))"
   ]
  },
  {
   "cell_type": "code",
   "execution_count": null,
   "metadata": {},
   "outputs": [
    {
     "name": "stdout",
     "output_type": "stream",
     "text": [
      "[[1 2 3]\n",
      " [4 5 6]]\n",
      "-------------------------\n",
      "[[1 4]\n",
      " [2 5]\n",
      " [3 6]]\n",
      "------\n",
      "[[1 4]\n",
      " [2 5]\n",
      " [3 6]]\n"
     ]
    }
   ],
   "source": [
    "mat = np.array([[1, 2, 3], [4, 5, 6]])\n",
    "print(mat, end = \"\\n-------------------------\\n\")\n",
    "#转置·两种方式等价\n",
    "print(np.transpose(mat), end = \"\\n------\\n\")\n",
    "print(mat.T)"
   ]
  },
  {
   "cell_type": "code",
   "execution_count": 23,
   "metadata": {},
   "outputs": [
    {
     "name": "stdout",
     "output_type": "stream",
     "text": [
      "7.0\n",
      "5.0\n",
      "4.497941445275415\n"
     ]
    }
   ],
   "source": [
    "#范数\n",
    "vec = np.array([3, 4])\n",
    "print(np.linalg.norm(vec, ord = 1))#L1\n",
    "print(np.linalg.norm(vec))#L2\n",
    "print(np.linalg.norm(vec, ord = 3))#L3"
   ]
  },
  {
   "cell_type": "code",
   "execution_count": 24,
   "metadata": {},
   "outputs": [
    {
     "data": {
      "text/plain": [
       "array([[1., 1.],\n",
       "       [1., 1.]])"
      ]
     },
     "execution_count": 24,
     "metadata": {},
     "output_type": "execute_result"
    }
   ],
   "source": [
    "#相关性分析\n",
    "np.corrcoef(arr1, arr2)#皮尔逊系数矩阵\n",
    "np.cov(arr1, arr2)#协方差矩阵"
   ]
  }
 ],
 "metadata": {
  "kernelspec": {
   "display_name": "venv",
   "language": "python",
   "name": "python3"
  },
  "language_info": {
   "codemirror_mode": {
    "name": "ipython",
    "version": 3
   },
   "file_extension": ".py",
   "mimetype": "text/x-python",
   "name": "python",
   "nbconvert_exporter": "python",
   "pygments_lexer": "ipython3",
   "version": "3.10.11"
  }
 },
 "nbformat": 4,
 "nbformat_minor": 2
}
