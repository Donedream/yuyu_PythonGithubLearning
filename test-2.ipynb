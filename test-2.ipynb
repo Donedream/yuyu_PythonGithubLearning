{
 "cells": [
  {
   "cell_type": "code",
   "execution_count": 1,
   "metadata": {},
   "outputs": [],
   "source": [
    "import json"
   ]
  },
  {
   "cell_type": "code",
   "execution_count": 2,
   "metadata": {},
   "outputs": [],
   "source": [
    "#示例数据·字典\n",
    "data = {\n",
    "    'name': 'yuyu_Zheng',\n",
    "    'age': 23,\n",
    "    'city': 'Shenzhen'\n",
    "}\n",
    "\n",
    "data_str = '{\"name\": \"yuyu_Zheng\", \"age\": 23, \"city\": \"Shenzhen\"}'"
   ]
  },
  {
   "cell_type": "code",
   "execution_count": 3,
   "metadata": {},
   "outputs": [
    {
     "name": "stdout",
     "output_type": "stream",
     "text": [
      "数据类型： <class 'dict'>\n",
      "{'name': 'yuyu_Zheng', 'age': 23, 'city': 'Shenzhen'}\n"
     ]
    }
   ],
   "source": [
    "#字符串loads\n",
    "json_obj = json.loads(data_str)\n",
    "\n",
    "print('数据类型：', type(json_obj))\n",
    "print(json_obj)"
   ]
  },
  {
   "cell_type": "code",
   "execution_count": 4,
   "metadata": {},
   "outputs": [
    {
     "name": "stdout",
     "output_type": "stream",
     "text": [
      "数据类型： <class 'str'>\n",
      "{\"name\": \"yuyu_Zheng\", \"age\": 23, \"city\": \"Shenzhen\"}\n"
     ]
    }
   ],
   "source": [
    "#转化成字符串dumps\n",
    "json_str = json.dumps(data)\n",
    "print('数据类型：', type(json_str))\n",
    "print(json_str)"
   ]
  },
  {
   "cell_type": "code",
   "execution_count": 5,
   "metadata": {},
   "outputs": [],
   "source": [
    "#文件保存\n",
    "json.dump(json_obj, open('data.json', 'w'))"
   ]
  },
  {
   "cell_type": "code",
   "execution_count": 6,
   "metadata": {},
   "outputs": [
    {
     "name": "stdout",
     "output_type": "stream",
     "text": [
      "{'name': 'yuyu_Zheng', 'age': 23, 'city': 'Shenzhen'}\n"
     ]
    }
   ],
   "source": [
    "#文件加载load\n",
    "data2 = json.load(open('data.json', 'r'))\n",
    "print(data2)"
   ]
  }
 ],
 "metadata": {
  "kernelspec": {
   "display_name": "venv",
   "language": "python",
   "name": "python3"
  },
  "language_info": {
   "codemirror_mode": {
    "name": "ipython",
    "version": 3
   },
   "file_extension": ".py",
   "mimetype": "text/x-python",
   "name": "python",
   "nbconvert_exporter": "python",
   "pygments_lexer": "ipython3",
   "version": "3.10.11"
  }
 },
 "nbformat": 4,
 "nbformat_minor": 2
}
