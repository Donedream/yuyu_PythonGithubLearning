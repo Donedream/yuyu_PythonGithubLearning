{
 "cells": [
  {
   "cell_type": "code",
   "execution_count": 1,
   "metadata": {},
   "outputs": [
    {
     "data": {
      "text/html": [
       "<style>\n",
       "    body {\n",
       "        --vscode-font-family: \"等距更纱黑体 SC\"\n",
       "    }\n",
       "</style>\n"
      ],
      "text/plain": [
       "<IPython.core.display.HTML object>"
      ]
     },
     "metadata": {},
     "output_type": "display_data"
    }
   ],
   "source": [
    "%%HTML\n",
    "<style>\n",
    "    body {\n",
    "        --vscode-font-family: \"等距更纱黑体 SC\"\n",
    "    }\n",
    "</style>"
   ]
  },
  {
   "cell_type": "code",
   "execution_count": 4,
   "metadata": {},
   "outputs": [],
   "source": [
    "import time\n",
    "import numpy as np"
   ]
  },
  {
   "cell_type": "markdown",
   "metadata": {},
   "source": [
    "纯python矩阵乘法"
   ]
  },
  {
   "cell_type": "code",
   "execution_count": 5,
   "metadata": {},
   "outputs": [],
   "source": [
    "def pure_python_matrix_multiply(A, B):\n",
    "    result = []\n",
    "    for _ in range(len(A)):\n",
    "        row = []\n",
    "        for _ in range(len(B[0])):\n",
    "            row.append(0)\n",
    "        result.append(row)\n",
    "    \n",
    "    for i in range(len(A)):\n",
    "        for j in range(len(B[0])):\n",
    "            for k in range(len(B)):\n",
    "                result[i][j] += A[i][k] * B[k][j]\n",
    "    return result"
   ]
  },
  {
   "cell_type": "code",
   "execution_count": 6,
   "metadata": {},
   "outputs": [],
   "source": [
    "#测试矩阵的大小\n",
    "N = 200\n",
    "#生成随机矩阵\n",
    "A = [[np.random.rand() for _ in range(N)] for _ in range(N)]\n",
    "B = [[np.random.rand() for _ in range(N)] for _ in range(N)]\n",
    "#转换为NumPy数组\n",
    "A_np = np.array(A)\n",
    "B_np = np.array(B)"
   ]
  },
  {
   "cell_type": "markdown",
   "metadata": {},
   "source": [
    "测试纯Python的矩阵乘法所用时间"
   ]
  },
  {
   "cell_type": "code",
   "execution_count": 12,
   "metadata": {},
   "outputs": [
    {
     "name": "stdout",
     "output_type": "stream",
     "text": [
      "纯Python实现耗时：0.524352 秒\n"
     ]
    }
   ],
   "source": [
    "start_time = time.time()\n",
    "python_result = pure_python_matrix_multiply(A, B)\n",
    "print(f\"纯Python实现耗时：{(time.time() - start_time):.6f} 秒\")"
   ]
  },
  {
   "cell_type": "markdown",
   "metadata": {},
   "source": [
    "测试Numpy的矩阵乘法时间"
   ]
  },
  {
   "cell_type": "code",
   "execution_count": 13,
   "metadata": {},
   "outputs": [
    {
     "name": "stdout",
     "output_type": "stream",
     "text": [
      "Numpy实现耗时：0.001993 秒\n"
     ]
    }
   ],
   "source": [
    "start_time = time.time()\n",
    "numpy_result = np.dot(A_np, B_np)\n",
    "print(f\"Numpy实现耗时：{(time.time() - start_time):.6f} 秒\")"
   ]
  }
 ],
 "metadata": {
  "kernelspec": {
   "display_name": "venv",
   "language": "python",
   "name": "python3"
  },
  "language_info": {
   "codemirror_mode": {
    "name": "ipython",
    "version": 3
   },
   "file_extension": ".py",
   "mimetype": "text/x-python",
   "name": "python",
   "nbconvert_exporter": "python",
   "pygments_lexer": "ipython3",
   "version": "3.10.11"
  }
 },
 "nbformat": 4,
 "nbformat_minor": 2
}
